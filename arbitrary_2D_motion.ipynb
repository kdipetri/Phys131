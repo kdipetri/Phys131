{
 "cells": [
  {
   "cell_type": "code",
   "execution_count": 20,
   "id": "79796edc",
   "metadata": {},
   "outputs": [],
   "source": [
    "import math\n",
    "\n",
    "# for plots\n",
    "import matplotlib.pyplot as plt\n",
    "import numpy as np\n",
    "\n",
    "# for dummy ledgends\n",
    "from matplotlib.lines import Line2D\n",
    "\n",
    "# for widgets\n",
    "from ipywidgets import interact, interactive, fixed, interact_manual\n",
    "import ipywidgets as widgets\n",
    "%matplotlib inline\n"
   ]
  },
  {
   "cell_type": "code",
   "execution_count": 8,
   "id": "2cc2cfcc",
   "metadata": {},
   "outputs": [],
   "source": [
    "def x(A,B,t):\n",
    "    x = A*t**3 + B*t\n",
    "    return x\n",
    "\n",
    "def y(C,D,t):\n",
    "    y = C*t**2 + D\n",
    "    return y\n",
    "\n",
    "def vx(A,B,t):\n",
    "    vx = 3*A*t**2 + B\n",
    "    return vx\n",
    "\n",
    "def vy(C,D,t):\n",
    "    vy = 2*C*t\n",
    "    return vy\n",
    "\n",
    "def ax(A,B,t):\n",
    "    ax = 6*A*t\n",
    "    return ax\n",
    "\n",
    "def ay(C,D,t):\n",
    "    ay = 2 * C\n",
    "    return ay\n"
   ]
  },
  {
   "cell_type": "code",
   "execution_count": 26,
   "id": "233274dc",
   "metadata": {},
   "outputs": [
    {
     "data": {
      "application/vnd.jupyter.widget-view+json": {
       "model_id": "e0610cb85600436da1f9f2d9309afd90",
       "version_major": 2,
       "version_minor": 0
      },
      "text/plain": [
       "interactive(children=(FloatSlider(value=1.0, description='A', max=10.0, min=-10.0, step=1.0), FloatSlider(valu…"
      ]
     },
     "metadata": {},
     "output_type": "display_data"
    },
    {
     "data": {
      "text/plain": [
       "<function __main__.plot_func(A, B, C, D)>"
      ]
     },
     "execution_count": 26,
     "metadata": {},
     "output_type": "execute_result"
    }
   ],
   "source": [
    "\n",
    "def plot_func(A,B,C,D):\n",
    "\n",
    "    # continuous position plot\n",
    "    ts = np.linspace(0,5,1000)\n",
    "        \n",
    "    xs = [x(A,B,t) for t in ts] \n",
    "    ys = [y(C,D,t) for t in ts] \n",
    "\n",
    "    plt.plot(xs, ys, c=\"blue\",lw=2)\n",
    "    plt.xlabel('x [m]')\n",
    "    plt.ylabel('y [m]')\n",
    "    \n",
    "    # plot velocity & acceleration at specific times\n",
    "    tvecs = [0,1,2,3,4,5]\n",
    "    for t in tvecs: \n",
    "        \n",
    "        # we'll plot vx,vy with respect to x(t),y(t)\n",
    "        xt = x(A,B,t)\n",
    "        yt = y(C,D,t)\n",
    "        \n",
    "        vxs = [xt, xt+vx(A,B,t)]\n",
    "        vys = [yt, yt+vy(C,D,t)]\n",
    "        \n",
    "        \n",
    "        plt.plot(vxs,vys,c=\"green\",lw=2)\n",
    "\n",
    "        # same idea for ax,ay\n",
    "        axs = [xt, xt+ax(A,B,t)]\n",
    "        ays = [yt, yt+ay(C,D,t)]\n",
    "        \n",
    "        plt.plot(axs,ays,c=\"orange\",lw=2)\n",
    "        \n",
    "    \n",
    "    #dummy legend\n",
    "    lines = [Line2D([0], [0], c=\"blue\", lw=2),\n",
    "             Line2D([0], [0], c=\"green\", lw=2),\n",
    "             Line2D([0], [0], c=\"orange\", lw=2)]\n",
    "\n",
    "    plt.legend(handles=lines, labels=['position', 'velocity', 'acceleration'])\n",
    "\n",
    "    plt.show()\n",
    "    \n",
    "\n",
    "\n",
    "\n",
    "interact(plot_func, A = widgets.FloatSlider(min=-10,max=10,step=1,value=1), \n",
    "                    B = widgets.FloatSlider(min=-50,max=50,step=1,value=-32),\n",
    "                    C = widgets.FloatSlider(min=-50,max=50,step=1,value=5),\n",
    "                    D = widgets.FloatSlider(min=-50,max=50,step=1,value=12) )"
   ]
  },
  {
   "cell_type": "code",
   "execution_count": null,
   "id": "8522733d",
   "metadata": {},
   "outputs": [],
   "source": []
  }
 ],
 "metadata": {
  "kernelspec": {
   "display_name": "Python 3 (ipykernel)",
   "language": "python",
   "name": "python3"
  },
  "language_info": {
   "codemirror_mode": {
    "name": "ipython",
    "version": 3
   },
   "file_extension": ".py",
   "mimetype": "text/x-python",
   "name": "python",
   "nbconvert_exporter": "python",
   "pygments_lexer": "ipython3",
   "version": "3.10.9"
  }
 },
 "nbformat": 4,
 "nbformat_minor": 5
}
