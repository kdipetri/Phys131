{
 "cells": [
  {
   "cell_type": "markdown",
   "id": "4c2b8335",
   "metadata": {},
   "source": [
    "# Plot motion in 2D\n",
    "\n",
    "Given the position vector described in class, we can find the velocity and acceleration as a function of t\n",
    "\n",
    "$$\\vec{r(t)} = (A t^3 + B t)\\hat{i}  + (C t^2 + D) \\hat{j} $$  \n",
    "$$\\vec{v(t)} = \\ = (3 A t^2 + B)\\hat{i}  + (2 C t) \\hat{j} $$  \\\n",
    "$$\\vec{a(t)} = (6 A t)\\hat{i}  + (2 C) \\hat{j} $$ \n"
   ]
  },
  {
   "cell_type": "code",
   "execution_count": null,
   "id": "726b9829",
   "metadata": {},
   "outputs": [],
   "source": [
    "import math\n",
    "\n",
    "# for plots\n",
    "import matplotlib.pyplot as plt\n",
    "import numpy as np\n",
    "\n",
    "# for dummy ledgends\n",
    "from matplotlib.lines import Line2D\n",
    "\n",
    "# for widgets\n",
    "from ipywidgets import interact, interactive, fixed, interact_manual\n",
    "import ipywidgets as widgets\n",
    "%matplotlib inline\n"
   ]
  },
  {
   "cell_type": "code",
   "execution_count": 1,
   "id": "2cc2cfcc",
   "metadata": {},
   "outputs": [],
   "source": [
    "# Write functions for each component of r, v, a\n",
    "\n",
    "def x(A,B,t):\n",
    "    x = A*t**3 + B*t\n",
    "    return x\n",
    "\n",
    "def y(C,D,t):\n",
    "    y = C*t**2 + D\n",
    "    return y\n",
    "\n",
    "def vx(A,B,t):\n",
    "    vx = 3*A*t**2 + B\n",
    "    return vx\n",
    "\n",
    "def vy(C,D,t):\n",
    "    vy = 2*C*t\n",
    "    return vy\n",
    "\n",
    "def ax(A,B,t):\n",
    "    ax = 6*A*t\n",
    "    return ax\n",
    "\n",
    "def ay(C,D,t):\n",
    "    ay = 2 * C\n",
    "    return ay\n"
   ]
  },
  {
   "cell_type": "code",
   "execution_count": 2,
   "id": "233274dc",
   "metadata": {},
   "outputs": [
    {
     "ename": "NameError",
     "evalue": "name 'interact' is not defined",
     "output_type": "error",
     "traceback": [
      "\u001b[0;31m---------------------------------------------------------------------------\u001b[0m",
      "\u001b[0;31mNameError\u001b[0m                                 Traceback (most recent call last)",
      "Cell \u001b[0;32mIn[2], line 49\u001b[0m\n\u001b[1;32m     43\u001b[0m     plt\u001b[38;5;241m.\u001b[39mlegend(handles\u001b[38;5;241m=\u001b[39mlines, labels\u001b[38;5;241m=\u001b[39m[\u001b[38;5;124m'\u001b[39m\u001b[38;5;124mposition\u001b[39m\u001b[38;5;124m'\u001b[39m, \u001b[38;5;124m'\u001b[39m\u001b[38;5;124mvelocity\u001b[39m\u001b[38;5;124m'\u001b[39m, \u001b[38;5;124m'\u001b[39m\u001b[38;5;124macceleration\u001b[39m\u001b[38;5;124m'\u001b[39m])\n\u001b[1;32m     45\u001b[0m     plt\u001b[38;5;241m.\u001b[39mshow()\n\u001b[0;32m---> 49\u001b[0m \u001b[43minteract\u001b[49m(plot_func, A \u001b[38;5;241m=\u001b[39m widgets\u001b[38;5;241m.\u001b[39mFloatSlider(\u001b[38;5;28mmin\u001b[39m\u001b[38;5;241m=\u001b[39m\u001b[38;5;241m-\u001b[39m\u001b[38;5;241m10\u001b[39m,\u001b[38;5;28mmax\u001b[39m\u001b[38;5;241m=\u001b[39m\u001b[38;5;241m10\u001b[39m,step\u001b[38;5;241m=\u001b[39m\u001b[38;5;241m1\u001b[39m,value\u001b[38;5;241m=\u001b[39m\u001b[38;5;241m1\u001b[39m), \n\u001b[1;32m     50\u001b[0m                     B \u001b[38;5;241m=\u001b[39m widgets\u001b[38;5;241m.\u001b[39mFloatSlider(\u001b[38;5;28mmin\u001b[39m\u001b[38;5;241m=\u001b[39m\u001b[38;5;241m-\u001b[39m\u001b[38;5;241m50\u001b[39m,\u001b[38;5;28mmax\u001b[39m\u001b[38;5;241m=\u001b[39m\u001b[38;5;241m50\u001b[39m,step\u001b[38;5;241m=\u001b[39m\u001b[38;5;241m1\u001b[39m,value\u001b[38;5;241m=\u001b[39m\u001b[38;5;241m-\u001b[39m\u001b[38;5;241m32\u001b[39m),\n\u001b[1;32m     51\u001b[0m                     C \u001b[38;5;241m=\u001b[39m widgets\u001b[38;5;241m.\u001b[39mFloatSlider(\u001b[38;5;28mmin\u001b[39m\u001b[38;5;241m=\u001b[39m\u001b[38;5;241m-\u001b[39m\u001b[38;5;241m50\u001b[39m,\u001b[38;5;28mmax\u001b[39m\u001b[38;5;241m=\u001b[39m\u001b[38;5;241m50\u001b[39m,step\u001b[38;5;241m=\u001b[39m\u001b[38;5;241m1\u001b[39m,value\u001b[38;5;241m=\u001b[39m\u001b[38;5;241m5\u001b[39m),\n\u001b[1;32m     52\u001b[0m                     D \u001b[38;5;241m=\u001b[39m widgets\u001b[38;5;241m.\u001b[39mFloatSlider(\u001b[38;5;28mmin\u001b[39m\u001b[38;5;241m=\u001b[39m\u001b[38;5;241m-\u001b[39m\u001b[38;5;241m50\u001b[39m,\u001b[38;5;28mmax\u001b[39m\u001b[38;5;241m=\u001b[39m\u001b[38;5;241m50\u001b[39m,step\u001b[38;5;241m=\u001b[39m\u001b[38;5;241m1\u001b[39m,value\u001b[38;5;241m=\u001b[39m\u001b[38;5;241m12\u001b[39m) )\n",
      "\u001b[0;31mNameError\u001b[0m: name 'interact' is not defined"
     ]
    }
   ],
   "source": [
    "# Write a function to plot position as a function of t\n",
    "# Plot velocity & acceleration at discrete t = 0, 1, 2, 3 s\n",
    "# Create widgets to toggle different values of A,B,C,D\n",
    "\n",
    "def plot_func(A,B,C,D):\n",
    "\n",
    "    # continuous position plot\n",
    "    ts = np.linspace(0,5,1000)\n",
    "        \n",
    "    xs = [x(A,B,t) for t in ts] \n",
    "    ys = [y(C,D,t) for t in ts] \n",
    "\n",
    "    plt.plot(xs, ys, c=\"blue\",lw=2)\n",
    "    plt.xlabel('x [m]')\n",
    "    plt.ylabel('y [m]')\n",
    "    \n",
    "    # plot velocity & acceleration at specific times\n",
    "    tvecs = [0,1,2,3,4,5]\n",
    "    for t in tvecs: \n",
    "        \n",
    "        # we'll plot vx,vy with respect to x(t),y(t)\n",
    "        xt = x(A,B,t)\n",
    "        yt = y(C,D,t)\n",
    "        \n",
    "        vxs = [xt, xt+vx(A,B,t)]\n",
    "        vys = [yt, yt+vy(C,D,t)]\n",
    "        \n",
    "        \n",
    "        plt.plot(vxs,vys,c=\"green\",lw=2)\n",
    "\n",
    "        # same idea for ax,ay\n",
    "        axs = [xt, xt+ax(A,B,t)]\n",
    "        ays = [yt, yt+ay(C,D,t)]\n",
    "        \n",
    "        plt.plot(axs,ays,c=\"orange\",lw=2)\n",
    "        \n",
    "    \n",
    "    #dummy legend\n",
    "    lines = [Line2D([0], [0], c=\"blue\", lw=2),\n",
    "             Line2D([0], [0], c=\"green\", lw=2),\n",
    "             Line2D([0], [0], c=\"orange\", lw=2)]\n",
    "\n",
    "    plt.legend(handles=lines, labels=['position', 'velocity', 'acceleration'])\n",
    "\n",
    "    plt.show()\n",
    "    \n",
    "\n",
    "\n",
    "interact(plot_func, A = widgets.FloatSlider(min=-10,max=10,step=1,value=1), \n",
    "                    B = widgets.FloatSlider(min=-50,max=50,step=1,value=-32),\n",
    "                    C = widgets.FloatSlider(min=-50,max=50,step=1,value=5),\n",
    "                    D = widgets.FloatSlider(min=-50,max=50,step=1,value=12) )"
   ]
  },
  {
   "cell_type": "code",
   "execution_count": null,
   "id": "8522733d",
   "metadata": {},
   "outputs": [],
   "source": []
  }
 ],
 "metadata": {
  "kernelspec": {
   "display_name": "Python 3 (ipykernel)",
   "language": "python",
   "name": "python3"
  },
  "language_info": {
   "codemirror_mode": {
    "name": "ipython",
    "version": 3
   },
   "file_extension": ".py",
   "mimetype": "text/x-python",
   "name": "python",
   "nbconvert_exporter": "python",
   "pygments_lexer": "ipython3",
   "version": "3.10.9"
  }
 },
 "nbformat": 4,
 "nbformat_minor": 5
}
